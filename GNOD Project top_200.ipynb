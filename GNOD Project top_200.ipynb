{
 "cells": [
  {
   "cell_type": "code",
   "execution_count": 1,
   "id": "af9b2814",
   "metadata": {},
   "outputs": [],
   "source": [
    "from bs4 import BeautifulSoup"
   ]
  },
  {
   "cell_type": "code",
   "execution_count": 2,
   "id": "3f80f9bb",
   "metadata": {},
   "outputs": [],
   "source": [
    "import requests\n",
    "import pandas as pd"
   ]
  },
  {
   "cell_type": "code",
   "execution_count": 3,
   "id": "eee0880e",
   "metadata": {},
   "outputs": [],
   "source": [
    "url = \"https://www.popvortex.com/music/charts/top-100-songs.php\""
   ]
  },
  {
   "cell_type": "code",
   "execution_count": 4,
   "id": "810229bc",
   "metadata": {},
   "outputs": [],
   "source": [
    "response = requests.get(url)"
   ]
  },
  {
   "cell_type": "code",
   "execution_count": 5,
   "id": "3cef59d5",
   "metadata": {},
   "outputs": [
    {
     "data": {
      "text/plain": [
       "200"
      ]
     },
     "execution_count": 5,
     "metadata": {},
     "output_type": "execute_result"
    }
   ],
   "source": [
    "response.status_code"
   ]
  },
  {
   "cell_type": "code",
   "execution_count": 28,
   "id": "67dcf5d8",
   "metadata": {},
   "outputs": [],
   "source": [
    "#response.content"
   ]
  },
  {
   "cell_type": "code",
   "execution_count": 7,
   "id": "0143215c",
   "metadata": {},
   "outputs": [],
   "source": [
    "soup = BeautifulSoup(response.content, \"html.parser\")"
   ]
  },
  {
   "cell_type": "code",
   "execution_count": 26,
   "id": "dc244d73",
   "metadata": {},
   "outputs": [],
   "source": [
    "#soup"
   ]
  },
  {
   "cell_type": "code",
   "execution_count": 9,
   "id": "19e432c6",
   "metadata": {},
   "outputs": [],
   "source": [
    "#.chart-content.col-xs-12.col-sm-8 > p"
   ]
  },
  {
   "cell_type": "code",
   "execution_count": 27,
   "id": "4c13c2cd",
   "metadata": {},
   "outputs": [],
   "source": [
    "#soup.select(\".chart-content.col-xs-12.col-sm-8 > p\")\n"
   ]
  },
  {
   "cell_type": "code",
   "execution_count": 11,
   "id": "e22118cb",
   "metadata": {},
   "outputs": [
    {
     "name": "stdout",
     "output_type": "stream",
     "text": [
      "Song 1: Lil Boo ThangPaul Russell\n",
      "Song 2: Wrap Me UpJimmy Fallon & Meghan Trainor\n",
      "Song 3: Lovin On MeJack Harlow\n",
      "Song 4: Find Your PeopleDrew Holcomb & The Neighbors\n",
      "Song 5: DJ Play A Christmas SongCher\n",
      "Song 6: I Remember Everything (feat. Kacey Musgraves)Zach Bryan\n",
      "Song 7: White HorseChris Stapleton\n",
      "Song 8: Save Me (with Lainey Wilson)Jelly Roll\n",
      "Song 9: Need A FavorJelly Roll\n",
      "Song 10: Standing Next to YouJung Kook\n",
      "Song 11: HoudiniDua Lipa\n",
      "Song 12: Cruel SummerTaylor Swift\n",
      "Song 13: 90s Rap MashupAustin Williams\n",
      "Song 14: Lose ControlTeddy Swims\n",
      "Song 15: 3DJung Kook & Jack Harlow\n",
      "Song 16: All I Want for Christmas Is YouMariah Carey\n",
      "Song 17: You're the InspirationChicago\n",
      "Song 18: Christmas / Sarajevo 12/24 (Instrumental)Trans-Siberian Orchestra\n",
      "Song 19: Standing Next to You (Band Version)Jung Kook\n",
      "Song 20: Thinkin’ Bout MeMorgan Wallen\n",
      "Song 21: Standing Next to You (Future Funk Remix)Jung Kook\n",
      "Song 22: Fairytale Of PhiladelphiaThe Philly Specials, Jason Kelce & Travis Kelce\n",
      "Song 23: Where the Wild Things AreLuke Combs\n",
      "Song 24: Standing Next to You (PBR&B Remix)Jung Kook\n",
      "Song 25: DaylightDavid Kushner\n",
      "Song 26: Standing Next to You (Slow Jam Remix)Jung Kook\n",
      "Song 27: Standing Next to You (Holiday Remix)Jung Kook\n",
      "Song 28: Standing Next to You (Latin Trap Remix)Jung Kook\n",
      "Song 29: Standing Next to You (Instrumental)Jung Kook\n",
      "Song 30: Paint The Town RedDoja Cat\n",
      "Song 31: Fast CarLuke Combs\n",
      "Song 32: Find Your PeopleDrew Holcomb & The Neighbors\n",
      "Song 33: Rockin' Around the Christmas Tree (Single)Brenda Lee\n",
      "Song 34: Last NightMorgan Wallen\n",
      "Song 35: WaterTyla\n",
      "Song 36: Lovin On MeJack Harlow\n",
      "Song 37: Now And ThenThe Beatles\n",
      "Song 38: The Thanksgiving SongAdam Sandler\n",
      "Song 39: greedyTate McRae\n",
      "Song 40: LoverTaylor Swift\n",
      "Song 41: Is It Over Now? (Taylor's Version) [From The Vault]Taylor Swift\n",
      "Song 42: Rich Men North of RichmondOliver Anthony Music\n",
      "Song 43: Let It Be (feat. Paul McCartney & Ringo Starr)Dolly Parton\n",
      "Song 44: Gobble GobbleMatthew West\n",
      "Song 45: To Be A Man (feat. Darius Rucker)Dax\n",
      "Song 46: Free Your MindEn Vogue\n",
      "Song 47: Seven (Explicit Ver.)Jung Kook & Latto\n",
      "Song 48: The Christmas Song (Merry Christmas to You)Nat \"King\" Cole\n",
      "Song 49: Flyin' Pass (Single)Caldwell\n",
      "Song 50: Used To Be YoungMiley Cyrus\n",
      "Song 51: Sin So SweetWarren Zeiders\n",
      "Song 52: Wild Ones (Extended Version)Jessie Murph & Jelly Roll\n",
      "Song 53: Fairytale Of PhiladelphiaThe Philly Specials, Jason Kelce & Travis Kelce\n",
      "Song 54: FlowersMiley Cyrus\n",
      "Song 55: Better Place (From TROLLS Band Together)*NSYNC & Justin Timberlake\n",
      "Song 56: The PainterCody Johnson\n",
      "Song 57: Night Moves (feat. Chris Stapleton)Dolly Parton\n",
      "Song 58: Tennessee WhiskeyChris Stapleton\n",
      "Song 59: Wrecking Ball (feat. Miley Cyrus)Dolly Parton\n",
      "Song 60: SnowmanSia\n",
      "Song 61: MONACOBad Bunny\n",
      "Song 62: World On FireDolly Parton\n",
      "Song 63: Anti-HeroTaylor Swift\n",
      "Song 64: Purple RainDolly Parton\n",
      "Song 65: Love Story (Taylor’s Version)Taylor Swift\n",
      "Song 66: KarmaTaylor Swift\n",
      "Song 67: Don’t Blame MeTaylor Swift\n",
      "Song 68: Last Christmas (Single Version)Wham!\n",
      "Song 69: Save MeJelly Roll\n",
      "Song 70: Fancy Like ChristmasWalker Hayes\n",
      "Song 71: RockstarDolly Parton\n",
      "Song 72: Dirt CheapCody Johnson\n",
      "Song 73: Open Arms (feat. Steve Perry)Dolly Parton\n",
      "Song 74: Dial DrunkNoah Kahan & Post Malone\n",
      "Song 75: Don't Let the Sun Go Down On Me (feat. Elton John)Dolly Parton\n",
      "Song 76: TRUCK BEDHARDY\n",
      "Song 77: Wizards in Winter (Instrumental)Trans-Siberian Orchestra\n",
      "Song 78: UnstoppableSia\n",
      "Song 79: Calm DownRema & Selena Gomez\n",
      "Song 80: Watermelon MoonshineLainey Wilson\n",
      "Song 81: (I Can't Get No) Satisfaction (feat. P!nk & Brandi Carlile)Dolly Parton\n",
      "Song 82: Islands In the StreamDolly Parton & Kenny Rogers\n",
      "Song 83: White ChristmasBing Crosby\n",
      "Song 84: The Chipmunk Song (Christmas Don't Be Late)Alvin & The Chipmunks\n",
      "Song 85: Style (Taylor's Version)Taylor Swift\n",
      "Song 86: Stretchy PantsCarrie Underwood\n",
      "Song 87: Can’t Catch Me Now (from The Hunger Games: The Ballad of Songbirds & Snakes)Olivia Rodrigo\n",
      "Song 88: Find Your People (Acoustic)Drew Holcomb & The Neighbors\n",
      "Song 89: Look What You Made Me DoTaylor Swift\n",
      "Song 90: You Belong With Me (Taylor’s Version)Taylor Swift\n",
      "Song 91: Blank Space (Taylor's Version)Taylor Swift\n",
      "Song 92: Son Of A SinnerJelly Roll\n",
      "Song 93: Good GoodUSHER, Summer Walker & 21 Savage\n",
      "Song 94: A Lot More FreeMax McNown\n",
      "Song 95: A Mad Russian's Christmas (Instrumental)Trans-Siberian Orchestra\n",
      "Song 96: exesTate McRae\n",
      "Song 97: Heart of Glass (feat. Debbie Harry)Dolly Parton\n",
      "Song 98: Evil Ways (feat. J. Cole)Drake\n",
      "Song 99: ONE MORE TIMEblink-182\n",
      "Song 100: Thank God I DoLauren Daigle\n"
     ]
    }
   ],
   "source": [
    "song_items = soup.select('.chart-content.col-xs-12.col-sm-8 > p')\n",
    "for index, song_item in enumerate(song_items, start=1):\n",
    "    value = song_item.get_text(strip=True)\n",
    "    print(f\"Song {index}: {value}\")"
   ]
  },
  {
   "cell_type": "code",
   "execution_count": 12,
   "id": "cca9fc09",
   "metadata": {},
   "outputs": [
    {
     "data": {
      "text/html": [
       "<div>\n",
       "<style scoped>\n",
       "    .dataframe tbody tr th:only-of-type {\n",
       "        vertical-align: middle;\n",
       "    }\n",
       "\n",
       "    .dataframe tbody tr th {\n",
       "        vertical-align: top;\n",
       "    }\n",
       "\n",
       "    .dataframe thead th {\n",
       "        text-align: right;\n",
       "    }\n",
       "</style>\n",
       "<table border=\"1\" class=\"dataframe\">\n",
       "  <thead>\n",
       "    <tr style=\"text-align: right;\">\n",
       "      <th></th>\n",
       "      <th>Title</th>\n",
       "      <th>Artist</th>\n",
       "    </tr>\n",
       "  </thead>\n",
       "  <tbody>\n",
       "    <tr>\n",
       "      <th>0</th>\n",
       "      <td>Lil Boo Thang</td>\n",
       "      <td>Paul Russell</td>\n",
       "    </tr>\n",
       "    <tr>\n",
       "      <th>1</th>\n",
       "      <td>Wrap Me Up</td>\n",
       "      <td>Jimmy Fallon &amp; Meghan Trainor</td>\n",
       "    </tr>\n",
       "    <tr>\n",
       "      <th>2</th>\n",
       "      <td>Lovin On Me</td>\n",
       "      <td>Jack Harlow</td>\n",
       "    </tr>\n",
       "    <tr>\n",
       "      <th>3</th>\n",
       "      <td>Find Your People</td>\n",
       "      <td>Drew Holcomb &amp; The Neighbors</td>\n",
       "    </tr>\n",
       "    <tr>\n",
       "      <th>4</th>\n",
       "      <td>DJ Play A Christmas Song</td>\n",
       "      <td>Cher</td>\n",
       "    </tr>\n",
       "    <tr>\n",
       "      <th>...</th>\n",
       "      <td>...</td>\n",
       "      <td>...</td>\n",
       "    </tr>\n",
       "    <tr>\n",
       "      <th>95</th>\n",
       "      <td>exes</td>\n",
       "      <td>Tate McRae</td>\n",
       "    </tr>\n",
       "    <tr>\n",
       "      <th>96</th>\n",
       "      <td>Heart of Glass (feat. Debbie Harry)</td>\n",
       "      <td>Dolly Parton</td>\n",
       "    </tr>\n",
       "    <tr>\n",
       "      <th>97</th>\n",
       "      <td>Evil Ways (feat. J. Cole)</td>\n",
       "      <td>Drake</td>\n",
       "    </tr>\n",
       "    <tr>\n",
       "      <th>98</th>\n",
       "      <td>ONE MORE TIME</td>\n",
       "      <td>blink-182</td>\n",
       "    </tr>\n",
       "    <tr>\n",
       "      <th>99</th>\n",
       "      <td>Thank God I Do</td>\n",
       "      <td>Lauren Daigle</td>\n",
       "    </tr>\n",
       "  </tbody>\n",
       "</table>\n",
       "<p>100 rows × 2 columns</p>\n",
       "</div>"
      ],
      "text/plain": [
       "                                  Title                         Artist\n",
       "0                         Lil Boo Thang                   Paul Russell\n",
       "1                            Wrap Me Up  Jimmy Fallon & Meghan Trainor\n",
       "2                           Lovin On Me                    Jack Harlow\n",
       "3                      Find Your People   Drew Holcomb & The Neighbors\n",
       "4              DJ Play A Christmas Song                           Cher\n",
       "..                                  ...                            ...\n",
       "95                                 exes                     Tate McRae\n",
       "96  Heart of Glass (feat. Debbie Harry)                   Dolly Parton\n",
       "97            Evil Ways (feat. J. Cole)                          Drake\n",
       "98                        ONE MORE TIME                      blink-182\n",
       "99                       Thank God I Do                  Lauren Daigle\n",
       "\n",
       "[100 rows x 2 columns]"
      ]
     },
     "execution_count": 12,
     "metadata": {},
     "output_type": "execute_result"
    }
   ],
   "source": [
    "\n",
    "titles = soup.select(\".chart-content.col-xs-12.col-sm-8 > p > cite\")\n",
    "artists = soup.select(\".chart-content.col-xs-12.col-sm-8 > p > em\")\n",
    "    \n",
    "    \n",
    "\n",
    "title_text = [title.get_text() for title in titles]\n",
    "artist_text = [artist.get_text() for artist in artists]\n",
    "    \n",
    "data = {\n",
    "        \"Title\": title_text,\n",
    "        \"Artist\":artist_text\n",
    "    }\n",
    "    \n",
    "df = pd.DataFrame(data)\n",
    "df"
   ]
  },
  {
   "cell_type": "code",
   "execution_count": 13,
   "id": "bd5b63cc",
   "metadata": {},
   "outputs": [],
   "source": [
    "url2 = \"https://www.billboard.com/charts/hot-100/\""
   ]
  },
  {
   "cell_type": "code",
   "execution_count": 14,
   "id": "a0003d30",
   "metadata": {},
   "outputs": [
    {
     "data": {
      "text/plain": [
       "200"
      ]
     },
     "execution_count": 14,
     "metadata": {},
     "output_type": "execute_result"
    }
   ],
   "source": [
    "response2 = requests.get(url2)\n",
    "response2.status_code"
   ]
  },
  {
   "cell_type": "code",
   "execution_count": 15,
   "id": "b55becae",
   "metadata": {},
   "outputs": [],
   "source": [
    "soup2 = BeautifulSoup(response2.content, \"html.parser\")\n"
   ]
  },
  {
   "cell_type": "code",
   "execution_count": 16,
   "id": "c4faab60",
   "metadata": {},
   "outputs": [],
   "source": [
    "# Checking that the html code looks like it should:\n",
    "\n",
    "# print(soup2.prettify())"
   ]
  },
  {
   "cell_type": "code",
   "execution_count": 17,
   "id": "59af62f6",
   "metadata": {},
   "outputs": [],
   "source": [
    "# Extracting the titles and artists from the url:\n",
    "\n",
    "titles = []\n",
    "artists = []\n",
    "\n",
    "for i in range(1, 110): \n",
    "    title_selector = f\"#post-1479786 > div.pmc-paywall > div > div > div > div.chart-results-list.\\/\\/.lrv-u-padding-t-150.lrv-u-padding-t-050\\\\@mobile-max > div:nth-child({i + 1}) > ul > li.lrv-u-width-100p > ul > li.o-chart-results-list__item.\\/\\/.lrv-u-flex-grow-1.lrv-u-flex.lrv-u-flex-direction-column.lrv-u-justify-content-center.lrv-u-border-b-1.u-border-b-0\\\\@mobile-max.lrv-u-border-color-grey-light.lrv-u-padding-l-1\\\\@mobile-max > h3\"\n",
    "    artist_selector = f\"#post-1479786 > div.pmc-paywall > div > div > div > div.chart-results-list.\\/\\/.lrv-u-padding-t-150.lrv-u-padding-t-050\\\\@mobile-max > div:nth-child({i + 1}) > ul > li.lrv-u-width-100p > ul > li.o-chart-results-list__item.\\/\\/.lrv-u-flex-grow-1.lrv-u-flex.lrv-u-flex-direction-column.lrv-u-justify-content-center.lrv-u-border-b-1.u-border-b-0\\\\@mobile-max.lrv-u-border-color-grey-light.lrv-u-padding-l-1\\\\@mobile-max > span\"\n",
    "\n",
    "    title_element = soup2.select_one(title_selector)\n",
    "    artist_element = soup2.select_one(artist_selector)\n",
    "\n",
    "    if title_element:\n",
    "        title = title_element.get_text(strip=True)\n",
    "        titles.append(title)\n",
    "\n",
    "    if artist_element:\n",
    "        artist = artist_element.get_text(strip=True)\n",
    "        artists.append(artist)\n",
    "\n",
    "data1 = {'Title': titles, 'Artist': artists}\n",
    "df1 = pd.DataFrame(data1, index=range(1, len(titles) + 1))"
   ]
  },
  {
   "cell_type": "code",
   "execution_count": 18,
   "id": "52faa140",
   "metadata": {},
   "outputs": [
    {
     "data": {
      "text/html": [
       "<div>\n",
       "<style scoped>\n",
       "    .dataframe tbody tr th:only-of-type {\n",
       "        vertical-align: middle;\n",
       "    }\n",
       "\n",
       "    .dataframe tbody tr th {\n",
       "        vertical-align: top;\n",
       "    }\n",
       "\n",
       "    .dataframe thead th {\n",
       "        text-align: right;\n",
       "    }\n",
       "</style>\n",
       "<table border=\"1\" class=\"dataframe\">\n",
       "  <thead>\n",
       "    <tr style=\"text-align: right;\">\n",
       "      <th></th>\n",
       "      <th>Title</th>\n",
       "      <th>Artist</th>\n",
       "    </tr>\n",
       "  </thead>\n",
       "  <tbody>\n",
       "    <tr>\n",
       "      <th>1</th>\n",
       "      <td>Cruel Summer</td>\n",
       "      <td>Taylor Swift</td>\n",
       "    </tr>\n",
       "    <tr>\n",
       "      <th>2</th>\n",
       "      <td>Lovin On Me</td>\n",
       "      <td>Jack Harlow</td>\n",
       "    </tr>\n",
       "    <tr>\n",
       "      <th>3</th>\n",
       "      <td>Paint The Town Red</td>\n",
       "      <td>Doja Cat</td>\n",
       "    </tr>\n",
       "    <tr>\n",
       "      <th>4</th>\n",
       "      <td>Snooze</td>\n",
       "      <td>SZA</td>\n",
       "    </tr>\n",
       "    <tr>\n",
       "      <th>5</th>\n",
       "      <td>Is It Over Now? (Taylor's Version) [From The V...</td>\n",
       "      <td>Taylor Swift</td>\n",
       "    </tr>\n",
       "    <tr>\n",
       "      <th>...</th>\n",
       "      <td>...</td>\n",
       "      <td>...</td>\n",
       "    </tr>\n",
       "    <tr>\n",
       "      <th>96</th>\n",
       "      <td>Mi Ex Tenia Razon</td>\n",
       "      <td>Karol G</td>\n",
       "    </tr>\n",
       "    <tr>\n",
       "      <th>97</th>\n",
       "      <td>Different 'Round Here</td>\n",
       "      <td>Riley Green Featuring Luke Combs</td>\n",
       "    </tr>\n",
       "    <tr>\n",
       "      <th>98</th>\n",
       "      <td>But I Got A Beer In My Hand</td>\n",
       "      <td>Luke Bryan</td>\n",
       "    </tr>\n",
       "    <tr>\n",
       "      <th>99</th>\n",
       "      <td>Better Than Ever</td>\n",
       "      <td>YoungBoy Never Broke Again &amp; Rod Wave</td>\n",
       "    </tr>\n",
       "    <tr>\n",
       "      <th>100</th>\n",
       "      <td>Soak City (Do It)</td>\n",
       "      <td>310babii</td>\n",
       "    </tr>\n",
       "  </tbody>\n",
       "</table>\n",
       "<p>100 rows × 2 columns</p>\n",
       "</div>"
      ],
      "text/plain": [
       "                                                 Title  \\\n",
       "1                                         Cruel Summer   \n",
       "2                                          Lovin On Me   \n",
       "3                                   Paint The Town Red   \n",
       "4                                               Snooze   \n",
       "5    Is It Over Now? (Taylor's Version) [From The V...   \n",
       "..                                                 ...   \n",
       "96                                   Mi Ex Tenia Razon   \n",
       "97                               Different 'Round Here   \n",
       "98                         But I Got A Beer In My Hand   \n",
       "99                                    Better Than Ever   \n",
       "100                                  Soak City (Do It)   \n",
       "\n",
       "                                    Artist  \n",
       "1                             Taylor Swift  \n",
       "2                              Jack Harlow  \n",
       "3                                 Doja Cat  \n",
       "4                                      SZA  \n",
       "5                             Taylor Swift  \n",
       "..                                     ...  \n",
       "96                                 Karol G  \n",
       "97        Riley Green Featuring Luke Combs  \n",
       "98                              Luke Bryan  \n",
       "99   YoungBoy Never Broke Again & Rod Wave  \n",
       "100                               310babii  \n",
       "\n",
       "[100 rows x 2 columns]"
      ]
     },
     "execution_count": 18,
     "metadata": {},
     "output_type": "execute_result"
    }
   ],
   "source": [
    "df1"
   ]
  },
  {
   "cell_type": "code",
   "execution_count": 19,
   "id": "14e70df1",
   "metadata": {},
   "outputs": [
    {
     "data": {
      "text/html": [
       "<div>\n",
       "<style scoped>\n",
       "    .dataframe tbody tr th:only-of-type {\n",
       "        vertical-align: middle;\n",
       "    }\n",
       "\n",
       "    .dataframe tbody tr th {\n",
       "        vertical-align: top;\n",
       "    }\n",
       "\n",
       "    .dataframe thead th {\n",
       "        text-align: right;\n",
       "    }\n",
       "</style>\n",
       "<table border=\"1\" class=\"dataframe\">\n",
       "  <thead>\n",
       "    <tr style=\"text-align: right;\">\n",
       "      <th></th>\n",
       "      <th>Title</th>\n",
       "      <th>Artist</th>\n",
       "    </tr>\n",
       "  </thead>\n",
       "  <tbody>\n",
       "    <tr>\n",
       "      <th>0</th>\n",
       "      <td>Lil Boo Thang</td>\n",
       "      <td>Paul Russell</td>\n",
       "    </tr>\n",
       "    <tr>\n",
       "      <th>1</th>\n",
       "      <td>Wrap Me Up</td>\n",
       "      <td>Jimmy Fallon &amp; Meghan Trainor</td>\n",
       "    </tr>\n",
       "    <tr>\n",
       "      <th>2</th>\n",
       "      <td>Lovin On Me</td>\n",
       "      <td>Jack Harlow</td>\n",
       "    </tr>\n",
       "    <tr>\n",
       "      <th>3</th>\n",
       "      <td>Find Your People</td>\n",
       "      <td>Drew Holcomb &amp; The Neighbors</td>\n",
       "    </tr>\n",
       "    <tr>\n",
       "      <th>4</th>\n",
       "      <td>DJ Play A Christmas Song</td>\n",
       "      <td>Cher</td>\n",
       "    </tr>\n",
       "    <tr>\n",
       "      <th>...</th>\n",
       "      <td>...</td>\n",
       "      <td>...</td>\n",
       "    </tr>\n",
       "    <tr>\n",
       "      <th>195</th>\n",
       "      <td>Mi Ex Tenia Razon</td>\n",
       "      <td>Karol G</td>\n",
       "    </tr>\n",
       "    <tr>\n",
       "      <th>196</th>\n",
       "      <td>Different 'Round Here</td>\n",
       "      <td>Riley Green Featuring Luke Combs</td>\n",
       "    </tr>\n",
       "    <tr>\n",
       "      <th>197</th>\n",
       "      <td>But I Got A Beer In My Hand</td>\n",
       "      <td>Luke Bryan</td>\n",
       "    </tr>\n",
       "    <tr>\n",
       "      <th>198</th>\n",
       "      <td>Better Than Ever</td>\n",
       "      <td>YoungBoy Never Broke Again &amp; Rod Wave</td>\n",
       "    </tr>\n",
       "    <tr>\n",
       "      <th>199</th>\n",
       "      <td>Soak City (Do It)</td>\n",
       "      <td>310babii</td>\n",
       "    </tr>\n",
       "  </tbody>\n",
       "</table>\n",
       "<p>200 rows × 2 columns</p>\n",
       "</div>"
      ],
      "text/plain": [
       "                           Title                                 Artist\n",
       "0                  Lil Boo Thang                           Paul Russell\n",
       "1                     Wrap Me Up          Jimmy Fallon & Meghan Trainor\n",
       "2                    Lovin On Me                            Jack Harlow\n",
       "3               Find Your People           Drew Holcomb & The Neighbors\n",
       "4       DJ Play A Christmas Song                                   Cher\n",
       "..                           ...                                    ...\n",
       "195            Mi Ex Tenia Razon                                Karol G\n",
       "196        Different 'Round Here       Riley Green Featuring Luke Combs\n",
       "197  But I Got A Beer In My Hand                             Luke Bryan\n",
       "198             Better Than Ever  YoungBoy Never Broke Again & Rod Wave\n",
       "199            Soak City (Do It)                               310babii\n",
       "\n",
       "[200 rows x 2 columns]"
      ]
     },
     "execution_count": 19,
     "metadata": {},
     "output_type": "execute_result"
    }
   ],
   "source": [
    "# Concatenating both df:\n",
    "\n",
    "combined_df = pd.concat([df, df1], ignore_index=True)\n",
    "\n",
    "combined_df"
   ]
  },
  {
   "cell_type": "code",
   "execution_count": 20,
   "id": "60b9161a",
   "metadata": {},
   "outputs": [
    {
     "data": {
      "text/plain": [
       "23"
      ]
     },
     "execution_count": 20,
     "metadata": {},
     "output_type": "execute_result"
    }
   ],
   "source": [
    "combined_df.duplicated().sum()"
   ]
  },
  {
   "cell_type": "code",
   "execution_count": 21,
   "id": "49fed187",
   "metadata": {},
   "outputs": [
    {
     "data": {
      "text/html": [
       "<div>\n",
       "<style scoped>\n",
       "    .dataframe tbody tr th:only-of-type {\n",
       "        vertical-align: middle;\n",
       "    }\n",
       "\n",
       "    .dataframe tbody tr th {\n",
       "        vertical-align: top;\n",
       "    }\n",
       "\n",
       "    .dataframe thead th {\n",
       "        text-align: right;\n",
       "    }\n",
       "</style>\n",
       "<table border=\"1\" class=\"dataframe\">\n",
       "  <thead>\n",
       "    <tr style=\"text-align: right;\">\n",
       "      <th></th>\n",
       "      <th>Title</th>\n",
       "      <th>Artist</th>\n",
       "    </tr>\n",
       "  </thead>\n",
       "  <tbody>\n",
       "    <tr>\n",
       "      <th>0</th>\n",
       "      <td>Lil Boo Thang</td>\n",
       "      <td>Paul Russell</td>\n",
       "    </tr>\n",
       "    <tr>\n",
       "      <th>1</th>\n",
       "      <td>Wrap Me Up</td>\n",
       "      <td>Jimmy Fallon &amp; Meghan Trainor</td>\n",
       "    </tr>\n",
       "    <tr>\n",
       "      <th>2</th>\n",
       "      <td>Lovin On Me</td>\n",
       "      <td>Jack Harlow</td>\n",
       "    </tr>\n",
       "    <tr>\n",
       "      <th>3</th>\n",
       "      <td>Find Your People</td>\n",
       "      <td>Drew Holcomb &amp; The Neighbors</td>\n",
       "    </tr>\n",
       "    <tr>\n",
       "      <th>4</th>\n",
       "      <td>DJ Play A Christmas Song</td>\n",
       "      <td>Cher</td>\n",
       "    </tr>\n",
       "    <tr>\n",
       "      <th>...</th>\n",
       "      <td>...</td>\n",
       "      <td>...</td>\n",
       "    </tr>\n",
       "    <tr>\n",
       "      <th>195</th>\n",
       "      <td>Mi Ex Tenia Razon</td>\n",
       "      <td>Karol G</td>\n",
       "    </tr>\n",
       "    <tr>\n",
       "      <th>196</th>\n",
       "      <td>Different 'Round Here</td>\n",
       "      <td>Riley Green Featuring Luke Combs</td>\n",
       "    </tr>\n",
       "    <tr>\n",
       "      <th>197</th>\n",
       "      <td>But I Got A Beer In My Hand</td>\n",
       "      <td>Luke Bryan</td>\n",
       "    </tr>\n",
       "    <tr>\n",
       "      <th>198</th>\n",
       "      <td>Better Than Ever</td>\n",
       "      <td>YoungBoy Never Broke Again &amp; Rod Wave</td>\n",
       "    </tr>\n",
       "    <tr>\n",
       "      <th>199</th>\n",
       "      <td>Soak City (Do It)</td>\n",
       "      <td>310babii</td>\n",
       "    </tr>\n",
       "  </tbody>\n",
       "</table>\n",
       "<p>177 rows × 2 columns</p>\n",
       "</div>"
      ],
      "text/plain": [
       "                           Title                                 Artist\n",
       "0                  Lil Boo Thang                           Paul Russell\n",
       "1                     Wrap Me Up          Jimmy Fallon & Meghan Trainor\n",
       "2                    Lovin On Me                            Jack Harlow\n",
       "3               Find Your People           Drew Holcomb & The Neighbors\n",
       "4       DJ Play A Christmas Song                                   Cher\n",
       "..                           ...                                    ...\n",
       "195            Mi Ex Tenia Razon                                Karol G\n",
       "196        Different 'Round Here       Riley Green Featuring Luke Combs\n",
       "197  But I Got A Beer In My Hand                             Luke Bryan\n",
       "198             Better Than Ever  YoungBoy Never Broke Again & Rod Wave\n",
       "199            Soak City (Do It)                               310babii\n",
       "\n",
       "[177 rows x 2 columns]"
      ]
     },
     "execution_count": 21,
     "metadata": {},
     "output_type": "execute_result"
    }
   ],
   "source": [
    "combined_df = combined_df.drop_duplicates(keep='first')\n",
    "\n",
    "combined_df"
   ]
  },
  {
   "cell_type": "code",
   "execution_count": 22,
   "id": "ad5e7bd9",
   "metadata": {},
   "outputs": [
    {
     "data": {
      "text/plain": [
       "0"
      ]
     },
     "execution_count": 22,
     "metadata": {},
     "output_type": "execute_result"
    }
   ],
   "source": [
    "combined_df.duplicated().sum()"
   ]
  },
  {
   "cell_type": "code",
   "execution_count": 23,
   "id": "97d7cf1b",
   "metadata": {},
   "outputs": [],
   "source": [
    "def recommend_song(combined_df):\n",
    "    input_song = input('Enter the title of a song: ')\n",
    "    if input_song in combined_df['Title'].values:\n",
    "        filtered_df = combined_df[combined_df['Title'] != input_song]\n",
    "        random_song = filtered_df.sample(1)\n",
    "        recommended_title = random_song['Title'].values\n",
    "        recommended_artist = random_song['Artist'].values\n",
    "        print(f\"Entered song '{input_song}'. Here's a recommendation:\")\n",
    "        print(f\"Title: {recommended_title}, Artist: {recommended_artist}\")\n",
    "    else:\n",
    "        print(\"Sorry, we have no recommendation at this time for that song.\")"
   ]
  },
  {
   "cell_type": "code",
   "execution_count": 24,
   "id": "1b4563e2",
   "metadata": {},
   "outputs": [
    {
     "name": "stdout",
     "output_type": "stream",
     "text": [
      "Enter the title of a song: Wrap Me Up\n",
      "Entered song 'Wrap Me Up'. Here's a recommendation:\n",
      "Title: ['I Know ?'], Artist: ['Travis Scott']\n"
     ]
    }
   ],
   "source": [
    "recommend_song(combined_df)"
   ]
  },
  {
   "cell_type": "code",
   "execution_count": 25,
   "id": "d1270744",
   "metadata": {},
   "outputs": [],
   "source": [
    "combined_df.to_csv(\"top_200.csv\", index=False)"
   ]
  },
  {
   "cell_type": "code",
   "execution_count": null,
   "id": "022f1972",
   "metadata": {},
   "outputs": [],
   "source": []
  }
 ],
 "metadata": {
  "kernelspec": {
   "display_name": "Python 3 (ipykernel)",
   "language": "python",
   "name": "python3"
  },
  "language_info": {
   "codemirror_mode": {
    "name": "ipython",
    "version": 3
   },
   "file_extension": ".py",
   "mimetype": "text/x-python",
   "name": "python",
   "nbconvert_exporter": "python",
   "pygments_lexer": "ipython3",
   "version": "3.10.9"
  }
 },
 "nbformat": 4,
 "nbformat_minor": 5
}
